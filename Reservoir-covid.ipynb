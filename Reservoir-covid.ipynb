{
 "cells": [
  {
   "cell_type": "markdown",
   "id": "b0e2eed3-d9b0-48c0-b23d-db1e75f7ab05",
   "metadata": {},
   "source": [
    "# Reservoir Computing for Covid dataset"
   ]
  },
  {
   "cell_type": "markdown",
   "id": "a62bee1b-9278-4c06-9791-818d3ee96b2f",
   "metadata": {},
   "source": [
    "## Conventional reservoir: predict patient condition using provided patient MS data"
   ]
  },
  {
   "cell_type": "code",
   "execution_count": null,
   "id": "98ef6c1d-db18-454d-8c41-08f553a6a3ff",
   "metadata": {
    "scrolled": true
   },
   "outputs": [],
   "source": [
    "# Running a Cobra reservoir in predictve mode with a test set \n",
    "# Cobra is directly run with KOs instead of an AMN (no training set required)\n",
    "# Results with no feature selection: \n",
    "# KO trpA Method: bayes_classifier Acc: 0.819±0.025 for 10-fold-CV and 3 iter\n",
    "# results with selection:\n",
    "# KO trpA Phenotype Method: bayes_classifier Acc: 0.955±0.015 for 10-fold-CV and 3 iter\n",
    "\n",
    "import cobra\n",
    "from Library.Import import *\n",
    "from Library.Utilities import bayes_classifier, LeaveXout, read_XY\n",
    "from Library.Utilities import best_accuracy_threshold\n",
    "from Library.Build_Dataset import TrainingSet, create_medium_run_cobra\n",
    "from sklearn.metrics import r2_score, accuracy_score, f1_score, matthews_corrcoef\n",
    "\n",
    "DIRECTORY = './Dataset_input/Covid/'\n",
    "seed = 1\n",
    "np.random.seed(seed=seed)\n",
    "\n",
    "# Create Cobra model\n",
    "name = 'Covid'\n",
    "cobrafile = f'{DIRECTORY}{name}_duplicated'\n",
    "mediumfile  = f'{DIRECTORY}{name}'\n",
    "parameter = TrainingSet(cobraname=cobrafile, \n",
    "                        mediumname=mediumfile, \n",
    "                        method='FBA')\n",
    "trainingfile = f'{DIRECTORY}{name}_train'\n",
    "parameter.save(trainingfile)\n",
    "\n",
    "\n",
    "# Load MS data\n",
    "testfile = f'{DIRECTORY}UGA/MEDIUM'\n",
    "feature, X_test, y_test_true = read_XY(testfile, nY=1, scaling='X')\n",
    "\n",
    "# Classifier set up\n",
    "xfold = 10\n",
    "niter = 3\n",
    "learner = bayes_classifier # To classify based on all phenotypes\n",
    "selection = 0 # To reduce the number of features when performing Leave X out, if 0 no selectin\n",
    "verbose = False\n",
    "scoring_function = accuracy_score\n",
    "\n",
    "KOs = ['WT  '] + [gene.name for gene in parameter.model.genes]\n",
    "i = 0            \n",
    "for ko in KOs:\n",
    "    i += 1\n",
    "    parameter.load(trainingfile)\n",
    "    # Run cobra to get growth rate for X_test\n",
    "    y_pred, X = create_medium_run_cobra(parameter.model, \n",
    "                                        parameter.objective, \n",
    "                                        parameter.medium, \n",
    "                                        X_test, method='FBA', scaler=1, \n",
    "                                        genekos=[ko], verbose=verbose) \n",
    "    \n",
    "    feature = [r.id for r in parameter.model.reactions]\n",
    "    X[X < 1e-3] = 0\n",
    "    zero_columns = np.argwhere(np.all(X == 0, axis=0)).flatten()\n",
    "    X = np.delete(X, zero_columns, axis=1)\n",
    "    feature = np.delete(feature, zero_columns, axis=0)\n",
    "    acc_avr, acc_dev = 0.5, 0\n",
    "    if X.shape[1]: \n",
    "        # Accuracy based on phenotype (X vector)\n",
    "        acc_avr, acc_dev, feature = LeaveXout(X, y_test_true.ravel(), feature, \n",
    "                                     learner=learner, scoring_function=scoring_function,  \n",
    "                                     xfold=xfold, niter=niter, \n",
    "                                     selection=selection, verbose=verbose)\n",
    "        \n",
    "    # Printing\n",
    "    print(f'KO {ko} Phenotype Size: {X.shape[1]:4d} Method: {learner.__name__} Score: {scoring_function.__name__} '\n",
    "            f'Acc: {acc_avr:.3f}±{acc_dev:.3f} '\n",
    "            f'for {xfold}-fold-CV and {niter} iter')\n",
    "    if selection:\n",
    "       F = np.array2string(feature).replace('[','').replace(']','')\n",
    "       print(f'Selected features: {F}')\n",
    "        "
   ]
  },
  {
   "cell_type": "markdown",
   "id": "e20bbe32-0f8e-47c1-92dc-9684f7c2c5b1",
   "metadata": {},
   "source": [
    "## Physical reservoir: predict patient condition using KO strains growth curves"
   ]
  },
  {
   "cell_type": "code",
   "execution_count": null,
   "id": "93e8fea1-aca6-40dc-8404-7027c2d17a6a",
   "metadata": {
    "scrolled": true
   },
   "outputs": [],
   "source": [
    "# Predict Patient condition using all KO GR and ODMax\n",
    "\n",
    "from Library.Import import *\n",
    "from Library.Utilities import svm_classifier, MLP, XGB, GP \n",
    "from Library.Utilities import bayes_classifier, decision_tree_classifier\n",
    "from Library.Utilities import LeaveXout, read_XY\n",
    "from sklearn.metrics import mean_squared_error, r2_score, accuracy_score\n",
    "\n",
    "DIRECTORY = './'\n",
    "problempath = f'{DIRECTORY}Dataset_input/Covid/'\n",
    "problem = 'Mild_vs_Severe_Rand_All50_formated' # Mild_vs_Severe_Rand_All50_formated Covid_Patient_Condition_all_features\n",
    "xfold = 5 # 5 = LOO\n",
    "niter = 3\n",
    "learner = MLP\n",
    "scoring_function=accuracy_score\n",
    "selection=-1\n",
    "filename = f'{problempath}{problem}'\n",
    "feature, X, y = read_XY(filename)\n",
    "y = y[:,0]\n",
    "# Train X, y for classification\n",
    "r2_avr, r2_dev, feature = LeaveXout(X, y.ravel(), feature, \n",
    "                                    learner=learner, \n",
    "                                    scoring_function=scoring_function, \n",
    "                                    xfold=xfold, niter=niter, \n",
    "                                    selection=selection, \n",
    "                                    verbose=True)\n",
    "F = np.array2string(feature[:-1]).replace('[','').replace(']','')\n",
    "print(f'{problem} Size: {X.shape} Method: {learner.__name__} '\n",
    "      f'Acc: {r2_avr:.3f}±{r2_dev:.3f} '\n",
    "      f'for {xfold}-fold-CV and {niter} iter\\n'\n",
    "      f'Selected features {len(feature)}: {F}')"
   ]
  },
  {
   "cell_type": "markdown",
   "id": "92b43ed9-0f9c-4a8e-992a-db267f98a74e",
   "metadata": {},
   "source": [
    "Mild_vs_Severe_Rand_All50_formated Size: (600, 114) Method: XGB Acc: 0.998±0.002 for 5-fold-CV and 3 iter\n",
    "Mild_vs_Severe_Rand_All50_formated Size: (600, 114) Method: MLP Acc: 0.981±0.005 for 5-fold-CV and 3 iter\n",
    "Mild_vs_Severe_Rand_All50_formated Size: (600, 114) Method: decision_tree_classifier Acc: 0.957±0.007 for 5-fold-CV and 3 iter\n",
    "Mild_vs_Severe_Rand_All50_formated Size: (600, 114) Method: bayes_classifier Acc: 0.668±0.010 for 5-fold-CV and 3 iter\n",
    "Mild_vs_Severe_Rand_All50_formated Size: (600, 114) Method: svm_classifier Acc: 0.537±0.014 for 5-fold-CV and 3 iter"
   ]
  }
 ],
 "metadata": {
  "kernelspec": {
   "display_name": "Python 3 (ipykernel)",
   "language": "python",
   "name": "python3"
  },
  "language_info": {
   "codemirror_mode": {
    "name": "ipython",
    "version": 3
   },
   "file_extension": ".py",
   "mimetype": "text/x-python",
   "name": "python",
   "nbconvert_exporter": "python",
   "pygments_lexer": "ipython3",
   "version": "3.9.16"
  }
 },
 "nbformat": 4,
 "nbformat_minor": 5
}
