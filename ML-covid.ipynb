{
 "cells": [
  {
   "cell_type": "markdown",
   "id": "b0e2eed3-d9b0-48c0-b23d-db1e75f7ab05",
   "metadata": {},
   "source": [
    "# ML (sklearn) with UGA Covid dataset"
   ]
  },
  {
   "cell_type": "code",
   "execution_count": 1,
   "id": "3cb14085-8032-4d4e-baf9-e512a95a754c",
   "metadata": {
    "scrolled": true,
    "tags": []
   },
   "outputs": [
    {
     "name": "stdout",
     "output_type": "stream",
     "text": [
      "ALL Size: 13 Method: svm_classifier Score: accuracy_score Acc: 0.823±0.015 for 20-fold-CV and 5 iter\n",
      "Selected features:\n",
      "'HILIC-M195' 'C18-M89' 'C18-M318' 'C18-M326' 'C18-M74' 'C18-M417'\n",
      " 'C18-M142' 'HILIC-M98' 'C18-M305' 'HILIC-M113' 'C18-M347' 'C18-M388'\n",
      " 'HILIC-M91'\n",
      "ALL Size: 8 Method: XGB Score: accuracy_score Acc: 0.860±0.020 for 20-fold-CV and 5 iter\n",
      "Selected features:\n",
      "'C18-M387' 'HILIC-M195' 'C18-M326' 'C18-M74' 'C18-M142' 'C18-M62'\n",
      " 'HILIC-M185' 'HILIC-M91'\n",
      "ALL Size: 11 Method: MLP Score: accuracy_score Acc: 0.844±0.023 for 20-fold-CV and 5 iter\n",
      "Selected features:\n",
      "'C18-M89' 'C18-M318' 'C18-M326' 'C18-M417' 'C18-M142' 'C18-M377'\n",
      " 'C18-M286' 'C18-M382' 'C18-M47' 'C18-M388' 'HILIC-M91'\n"
     ]
    }
   ],
   "source": [
    "# Classification with various learners and various dataset\n",
    "\n",
    "from Library.Import import *\n",
    "from Library.Utilities import svm_classifier, MLP, XGB, GP \n",
    "from Library.Utilities import bayes_classifier, decision_tree_classifier\n",
    "from Library.Utilities import LeaveXout, read_XY\n",
    "from sklearn.metrics import r2_score, accuracy_score, f1_score, matthews_corrcoef\n",
    "\n",
    "DIRECTORY = './Dataset_input/Covid/UGA/'\n",
    "dataset = 'ALL' #  ALL or ALL_selected_features or MEDIUM\n",
    "filename = f'{DIRECTORY}{dataset}'\n",
    "\n",
    "seed = 1\n",
    "np.random.seed(seed=seed)\n",
    "niter = 5\n",
    "selection = 3 # if > 0 remove feature\n",
    "verbose = False\n",
    "\n",
    "scoring_function = accuracy_score\n",
    "feature, X, y = read_XY(filename, scaling='XY')\n",
    "xfold = 20\n",
    "\n",
    "for learner in [svm_classifier, XGB, MLP]:\n",
    "\n",
    "    acc_avr, acc_dev, F = LeaveXout(X, y.ravel(), feature[:-1], \n",
    "                                      learner=learner, scoring_function=scoring_function, \n",
    "                                      xfold=xfold, niter=niter, \n",
    "                                      selection=selection, verbose=verbose)\n",
    "\n",
    "    print(f'{dataset} Size: {len(F)} Method: {learner.__name__} Score: {scoring_function.__name__} '\n",
    "          f'Acc: {acc_avr:.3f}±{acc_dev:.3f} '\n",
    "          f'for {xfold}-fold-CV and {niter} iter')\n",
    "\n",
    "    if selection:\n",
    "       F = np.array2string(F).replace('[','').replace(']','')\n",
    "       print(f'Selected features:\\n{F}')\n"
   ]
  },
  {
   "cell_type": "markdown",
   "id": "db417686-478d-4110-991b-f6a5e7e8acb1",
   "metadata": {},
   "source": [
    "ALL Size: 13 Method: svm_classifier Score: accuracy_score Acc: 0.823±0.015 for 20-fold-CV and 5 iter\n",
    "Selected features:\n",
    "'HILIC-M195' 'C18-M89' 'C18-M318' 'C18-M326' 'C18-M74' 'C18-M417'\n",
    " 'C18-M142' 'HILIC-M98' 'C18-M305' 'HILIC-M113' 'C18-M347' 'C18-M388'\n",
    " 'HILIC-M91'\n",
    "ALL Size: 8 Method: XGB Score: accuracy_score Acc: 0.860±0.020 for 20-fold-CV and 5 iter\n",
    "Selected features:\n",
    "'C18-M387' 'HILIC-M195' 'C18-M326' 'C18-M74' 'C18-M142' 'C18-M62'\n",
    " 'HILIC-M185' 'HILIC-M91\n",
    " ALL Size: 11 Method: MLP Score: accuracy_score Acc: 0.844±0.023 for 20-fold-CV and 5 iter\n",
    "Selected features:\n",
    "'C18-M89' 'C18-M318' 'C18-M326' 'C18-M417' 'C18-M142' 'C18-M377'\n",
    " 'C18-M286' 'C18-M382' 'C18-M47' 'C18-M388' 'HILIC-M91'\n"
   ]
  }
 ],
 "metadata": {
  "kernelspec": {
   "display_name": "Python (armenv)",
   "language": "python",
   "name": "armenv"
  },
  "language_info": {
   "codemirror_mode": {
    "name": "ipython",
    "version": 3
   },
   "file_extension": ".py",
   "mimetype": "text/x-python",
   "name": "python",
   "nbconvert_exporter": "python",
   "pygments_lexer": "ipython3",
   "version": "3.9.7"
  }
 },
 "nbformat": 4,
 "nbformat_minor": 5
}
