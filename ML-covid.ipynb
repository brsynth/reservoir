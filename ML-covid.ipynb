{
 "cells": [
  {
   "cell_type": "markdown",
   "id": "b0e2eed3-d9b0-48c0-b23d-db1e75f7ab05",
   "metadata": {},
   "source": [
    "# ML (sklearn) with UGA Covid dataset"
   ]
  },
  {
   "cell_type": "code",
   "execution_count": 5,
   "id": "3cb14085-8032-4d4e-baf9-e512a95a754c",
   "metadata": {
    "scrolled": true,
    "tags": []
   },
   "outputs": [
    {
     "name": "stdout",
     "output_type": "stream",
     "text": [
      "Size: 55 Remove: EX_adn_e_i Score: 0.724±0.006\n",
      "Size: 54 Remove: EX_ddca_e_i Score: 0.737±0.006\n",
      "Size: 53 Remove: EX_thym_e_i Score: 0.749±0.015\n",
      "Size: 52 Remove: EX_arab__L_e_i Score: 0.753±0.020\n",
      "Size: 51 Remove: EX_acgal_e_i Score: 0.753±0.027\n",
      "Size: 50 Remove: EX_ala__L_e_i Score: 0.761±0.025\n",
      "Size: 49 Remove: EX_tyr__L_e_i Score: 0.770±0.029\n",
      "Size: 48 Remove: EX_glu__L_e_i Score: 0.770±0.015\n",
      "Size: 47 Remove: EX_tyrp_e_i Score: 0.774±0.015\n",
      "Size: 46 Remove: EX_orn_e_i Score: 0.778±0.010\n",
      "Size: 45 Remove: EX_maltttr_e_i Score: 0.778±0.027\n",
      "Size: 44 Remove: EX_cys__L_e_i Score: 0.774±0.006\n",
      "Size: 43 Remove: EX_ile__L_e_i Score: 0.770±0.021\n",
      "Size: 42 Remove: EX_gsn_e_i Score: 0.774±0.042\n",
      "Size: 41 Remove: EX_glcr_e_i Score: 0.778±0.020\n",
      "Size: 40 Remove: EX_cit_e_i Score: 0.782±0.025\n",
      "Size: 39 Remove: EX_acser_e_i Score: 0.782±0.012\n",
      "Size: 38 Remove: EX_pppn_e_i Score: 0.790±0.010\n",
      "Size: 37 Remove: EX_urea_e_i Score: 0.794±0.012\n",
      "Size: 36 Remove: EX_taur_e_i Score: 0.794±0.015\n",
      "Size: 35 Remove: EX_4abut_e_i Score: 0.798±0.015\n",
      "Size: 34 Remove: EX_acnam_e_i Score: 0.798±0.015\n",
      "Size: 33 Remove: EX_succ_e_i Score: 0.802±0.020\n",
      "Size: 32 Remove: EX_lys__L_e_i Score: 0.807±0.006\n",
      "Size: 31 Remove: EX_indole_e_i Score: 0.798±0.015\n",
      "Size: 30 Remove: EX_gln__L_e_i Score: 0.798±0.006\n",
      "Size: 29 Remove: EX_trp__L_e_i Score: 0.798±0.006\n",
      "Size: 28 Remove: EX_ura_e_i Score: 0.815±0.017\n",
      "Size: 27 Remove: EX_val__L_e_i Score: 0.827±0.010\n",
      "Size: 26 Remove: EX_quin_e_i Score: 0.823±0.006\n",
      "Size: 25 Remove: EX_inost_e_i Score: 0.819±0.015\n",
      "Size: 24 Remove: EX_hxan_e_i Score: 0.823±0.023\n",
      "Size: 23 Remove: EX_hom__L_e_i Score: 0.831±0.012\n",
      "Size: 22 Remove: EX_galctn__L_e_i Score: 0.831±0.012\n",
      "Size: 21 Remove: EX_gam6p_e_i Score: 0.840±0.010\n",
      "Size: 20 Remove: EX_glcur_e_i Score: 0.840±0.010\n",
      "Size: 19 Remove: EX_hdca_e_i Score: 0.852±0.010\n",
      "Size: 18 Remove: EX_phe__L_e_i Score: 0.860±0.023\n",
      "Size: 17 Remove: EX_csn_e_i Score: 0.864±0.017\n",
      "Size: 16 Remove: EX_amp_e_i Score: 0.852±0.010\n",
      "Size: 15 Remove: EX_asp__L_e_i Score: 0.840±0.010\n",
      "Size: 14 Remove: EX_ocdcea_e_i Score: 0.844±0.012\n",
      "Size: 13 Remove: EX_xylu__L_e_i Score: 0.848±0.006\n",
      "Size: 12 Remove: EX_cys__D_e_i Score: 0.840±0.010\n",
      "Size: 11 Remove: EX_urate_e_i Score: 0.835±0.006\n",
      "Size: 10 Remove: EX_uri_e_i Score: 0.848±0.012\n",
      "Size: 9 Remove: EX_gthox_e_i Score: 0.831±0.012\n",
      "Size: 8 Remove: EX_asn__L_e_i Score: 0.819±0.021\n",
      "Size: 7 Remove: EX_pydx_e_i Score: 0.827±0.010\n",
      "Size: 6 Remove: EX_pro__L_e_i Score: 0.844±0.012\n",
      "Size: 5 Remove: EX_mal__D_e_i Score: 0.819±0.015\n",
      "Size: 4 Remove: EX_octa_e_i Score: 0.802±0.000\n",
      "Size: 3 Remove: EX_5mtr_e_i Score: 0.802±0.017\n",
      "Size: 2 Remove: EX_his__L_e_i Score: 0.811±0.015\n",
      "Size: 1 Remove: EX_ser__D_e_i Score: 0.658±0.006\n",
      "MEDIUM Size: 17 Method: XGB Score: accuracy_score Acc: 0.864±0.017 for 20-fold-CV and 3 iter\n",
      "Selected features:\n",
      "'EX_ocdcea_e_i' 'EX_urate_e_i' 'EX_5mtr_e_i' 'EX_3amp_e_i'\n",
      " 'EX_mal__D_e_i' 'EX_octa_e_i' 'EX_asn__L_e_i' 'EX_amp_e_i'\n",
      " 'EX_asp__L_e_i' 'EX_his__L_e_i' 'EX_xylu__L_e_i' 'EX_ser__D_e_i'\n",
      " 'EX_pydx_e_i' 'EX_pro__L_e_i' 'EX_cys__D_e_i' 'EX_gthox_e_i' 'EX_uri_e_i'\n"
     ]
    }
   ],
   "source": [
    "# Classification with various learners and various dataset\n",
    "\n",
    "from Library.Import import *\n",
    "from Library.Utilities import svm_classifier, MLP, XGB, GP \n",
    "from Library.Utilities import bayes_classifier, decision_tree_classifier\n",
    "from Library.Utilities import LeaveXout, read_XY\n",
    "from sklearn.metrics import r2_score, accuracy_score, f1_score, matthews_corrcoef\n",
    "\n",
    "DIRECTORY = './Dataset_input/Covid/UGA/'\n",
    "dataset = 'MEDIUM' #  ALL or ALL_selected_features or MEDIUM\n",
    "filename = f'{DIRECTORY}{dataset}'\n",
    "\n",
    "seed = 1\n",
    "np.random.seed(seed=seed)\n",
    "niter = 3\n",
    "selection = 1 # if > 0 remove feature\n",
    "verbose = False\n",
    "\n",
    "scoring_function = accuracy_score\n",
    "feature, X, y = read_XY(filename, scaling='XY')\n",
    "xfold = 20\n",
    "\n",
    "for learner in [XGB]:\n",
    "\n",
    "    acc_avr, acc_dev, F = LeaveXout(X, y.ravel(), feature[:-1], \n",
    "                                      learner=learner, scoring_function=scoring_function, \n",
    "                                      xfold=xfold, niter=niter, \n",
    "                                      selection=selection, verbose=True)\n",
    "\n",
    "    print(f'{dataset} Size: {len(F)} Method: {learner.__name__} Score: {scoring_function.__name__} '\n",
    "          f'Acc: {acc_avr:.3f}±{acc_dev:.3f} '\n",
    "          f'for {xfold}-fold-CV and {niter} iter')\n",
    "\n",
    "    if selection:\n",
    "       F = np.array2string(F).replace('[','').replace(']','')\n",
    "       print(f'Selected features:\\n{F}')\n"
   ]
  },
  {
   "cell_type": "markdown",
   "id": "db417686-478d-4110-991b-f6a5e7e8acb1",
   "metadata": {},
   "source": [
    "ALL Size: 13 Method: svm_classifier Score: accuracy_score Acc: 0.823±0.015 for 20-fold-CV and 5 iter\n",
    "Selected features:\n",
    "'HILIC-M195' 'C18-M89' 'C18-M318' 'C18-M326' 'C18-M74' 'C18-M417'\n",
    " 'C18-M142' 'HILIC-M98' 'C18-M305' 'HILIC-M113' 'C18-M347' 'C18-M388'\n",
    " 'HILIC-M91'\n",
    "ALL Size: 8 Method: XGB Score: accuracy_score Acc: 0.860±0.020 for 20-fold-CV and 5 iter\n",
    "Selected features:\n",
    "'C18-M387' 'HILIC-M195' 'C18-M326' 'C18-M74' 'C18-M142' 'C18-M62'\n",
    " 'HILIC-M185' 'HILIC-M91\n",
    " ALL Size: 11 Method: MLP Score: accuracy_score Acc: 0.844±0.023 for 20-fold-CV and 5 iter\n",
    "Selected features:\n",
    "'C18-M89' 'C18-M318' 'C18-M326' 'C18-M417' 'C18-M142' 'C18-M377'\n",
    " 'C18-M286' 'C18-M382' 'C18-M47' 'C18-M388' 'HILIC-M91'\n"
   ]
  }
 ],
 "metadata": {
  "kernelspec": {
   "display_name": "Python 3 (ipykernel)",
   "language": "python",
   "name": "python3"
  },
  "language_info": {
   "codemirror_mode": {
    "name": "ipython",
    "version": 3
   },
   "file_extension": ".py",
   "mimetype": "text/x-python",
   "name": "python",
   "nbconvert_exporter": "python",
   "pygments_lexer": "ipython3",
   "version": "3.10.13"
  }
 },
 "nbformat": 4,
 "nbformat_minor": 5
}
